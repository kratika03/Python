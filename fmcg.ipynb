{
 "cells": [
  {
   "cell_type": "code",
   "execution_count": 1,
   "id": "414be065-04fd-4bc0-b1fb-cb0093a88128",
   "metadata": {},
   "outputs": [],
   "source": [
    "import pandas as pd\n",
    "import numpy as np"
   ]
  },
  {
   "cell_type": "code",
   "execution_count": 2,
   "id": "c0802ff9-a280-4710-8211-2da38a05a1ed",
   "metadata": {},
   "outputs": [],
   "source": [
    "df=pd.read_csv(\"rawdat.csv\")"
   ]
  },
  {
   "cell_type": "code",
   "execution_count": 3,
   "id": "8d2578b5-d3e4-4a81-89e0-efe5a02c6d4c",
   "metadata": {},
   "outputs": [
    {
     "data": {
      "text/html": [
       "<div>\n",
       "<style scoped>\n",
       "    .dataframe tbody tr th:only-of-type {\n",
       "        vertical-align: middle;\n",
       "    }\n",
       "\n",
       "    .dataframe tbody tr th {\n",
       "        vertical-align: top;\n",
       "    }\n",
       "\n",
       "    .dataframe thead th {\n",
       "        text-align: right;\n",
       "    }\n",
       "</style>\n",
       "<table border=\"1\" class=\"dataframe\">\n",
       "  <thead>\n",
       "    <tr style=\"text-align: right;\">\n",
       "      <th></th>\n",
       "      <th>Month</th>\n",
       "      <th>Channel</th>\n",
       "      <th>Sub-Channels</th>\n",
       "      <th>Product Name</th>\n",
       "      <th>Category</th>\n",
       "      <th>Qty</th>\n",
       "      <th>Sales</th>\n",
       "    </tr>\n",
       "  </thead>\n",
       "  <tbody>\n",
       "    <tr>\n",
       "      <th>0</th>\n",
       "      <td>01-Dec-20</td>\n",
       "      <td>Marketplace</td>\n",
       "      <td>AMAZON</td>\n",
       "      <td>ALOE + AMLA JUICE 1 L</td>\n",
       "      <td>Juices</td>\n",
       "      <td>1,116</td>\n",
       "      <td>4,28,700</td>\n",
       "    </tr>\n",
       "    <tr>\n",
       "      <th>1</th>\n",
       "      <td>01-Dec-20</td>\n",
       "      <td>Marketplace</td>\n",
       "      <td>AMAZON</td>\n",
       "      <td>ALOE + GARCINIA JUICE 1 L</td>\n",
       "      <td>Juices</td>\n",
       "      <td>3,003</td>\n",
       "      <td>13,74,831</td>\n",
       "    </tr>\n",
       "    <tr>\n",
       "      <th>2</th>\n",
       "      <td>01-Dec-20</td>\n",
       "      <td>Marketplace</td>\n",
       "      <td>AMAZON</td>\n",
       "      <td>ALOE VERA JUICE 1 L</td>\n",
       "      <td>Juices</td>\n",
       "      <td>2,962</td>\n",
       "      <td>7,32,167</td>\n",
       "    </tr>\n",
       "    <tr>\n",
       "      <th>3</th>\n",
       "      <td>01-Dec-20</td>\n",
       "      <td>Marketplace</td>\n",
       "      <td>AMAZON</td>\n",
       "      <td>ALOE VERA SKIN GEL 500 GM</td>\n",
       "      <td>Gourmet Nutrition</td>\n",
       "      <td>1,004</td>\n",
       "      <td>3,77,100</td>\n",
       "    </tr>\n",
       "    <tr>\n",
       "      <th>4</th>\n",
       "      <td>01-Dec-20</td>\n",
       "      <td>Marketplace</td>\n",
       "      <td>AMAZON</td>\n",
       "      <td>NEEM JUICE 1 L</td>\n",
       "      <td>Juices</td>\n",
       "      <td>555</td>\n",
       "      <td>1,52,287</td>\n",
       "    </tr>\n",
       "  </tbody>\n",
       "</table>\n",
       "</div>"
      ],
      "text/plain": [
       "       Month      Channel Sub-Channels               Product Name  \\\n",
       "0  01-Dec-20  Marketplace       AMAZON      ALOE + AMLA JUICE 1 L   \n",
       "1  01-Dec-20  Marketplace       AMAZON  ALOE + GARCINIA JUICE 1 L   \n",
       "2  01-Dec-20  Marketplace       AMAZON        ALOE VERA JUICE 1 L   \n",
       "3  01-Dec-20  Marketplace       AMAZON  ALOE VERA SKIN GEL 500 GM   \n",
       "4  01-Dec-20  Marketplace       AMAZON             NEEM JUICE 1 L   \n",
       "\n",
       "            Category      Qty        Sales  \n",
       "0             Juices   1,116     4,28,700   \n",
       "1             Juices   3,003    13,74,831   \n",
       "2             Juices   2,962     7,32,167   \n",
       "3  Gourmet Nutrition   1,004     3,77,100   \n",
       "4             Juices     555     1,52,287   "
      ]
     },
     "execution_count": 3,
     "metadata": {},
     "output_type": "execute_result"
    }
   ],
   "source": [
    "df.head()"
   ]
  },
  {
   "cell_type": "code",
   "execution_count": 4,
   "id": "f5ef2fd7-8346-479e-ba06-f5bbd7a677dd",
   "metadata": {},
   "outputs": [
    {
     "data": {
      "text/plain": [
       "Month           0\n",
       "Channel         0\n",
       "Sub-Channels    0\n",
       "Product Name    0\n",
       "Category        0\n",
       "Qty             0\n",
       "Sales           0\n",
       "dtype: int64"
      ]
     },
     "execution_count": 4,
     "metadata": {},
     "output_type": "execute_result"
    }
   ],
   "source": [
    "df.isna().sum()"
   ]
  },
  {
   "cell_type": "code",
   "execution_count": 5,
   "id": "8336dad8-c6d7-4978-96ef-14a6a05b9343",
   "metadata": {},
   "outputs": [
    {
     "data": {
      "text/html": [
       "<div>\n",
       "<style scoped>\n",
       "    .dataframe tbody tr th:only-of-type {\n",
       "        vertical-align: middle;\n",
       "    }\n",
       "\n",
       "    .dataframe tbody tr th {\n",
       "        vertical-align: top;\n",
       "    }\n",
       "\n",
       "    .dataframe thead th {\n",
       "        text-align: right;\n",
       "    }\n",
       "</style>\n",
       "<table border=\"1\" class=\"dataframe\">\n",
       "  <thead>\n",
       "    <tr style=\"text-align: right;\">\n",
       "      <th></th>\n",
       "      <th>Month</th>\n",
       "      <th>Channel</th>\n",
       "      <th>Sub-Channels</th>\n",
       "      <th>Product Name</th>\n",
       "      <th>Category</th>\n",
       "      <th>Qty</th>\n",
       "      <th>Sales</th>\n",
       "    </tr>\n",
       "  </thead>\n",
       "  <tbody>\n",
       "    <tr>\n",
       "      <th>0</th>\n",
       "      <td>01-Dec-20</td>\n",
       "      <td>Marketplace</td>\n",
       "      <td>AMAZON</td>\n",
       "      <td>ALOE + AMLA JUICE 1 L</td>\n",
       "      <td>Juices</td>\n",
       "      <td>1,116</td>\n",
       "      <td>4,28,700</td>\n",
       "    </tr>\n",
       "    <tr>\n",
       "      <th>1</th>\n",
       "      <td>01-Dec-20</td>\n",
       "      <td>Marketplace</td>\n",
       "      <td>AMAZON</td>\n",
       "      <td>ALOE + GARCINIA JUICE 1 L</td>\n",
       "      <td>Juices</td>\n",
       "      <td>3,003</td>\n",
       "      <td>13,74,831</td>\n",
       "    </tr>\n",
       "    <tr>\n",
       "      <th>2</th>\n",
       "      <td>01-Dec-20</td>\n",
       "      <td>Marketplace</td>\n",
       "      <td>AMAZON</td>\n",
       "      <td>ALOE VERA JUICE 1 L</td>\n",
       "      <td>Juices</td>\n",
       "      <td>2,962</td>\n",
       "      <td>7,32,167</td>\n",
       "    </tr>\n",
       "    <tr>\n",
       "      <th>3</th>\n",
       "      <td>01-Dec-20</td>\n",
       "      <td>Marketplace</td>\n",
       "      <td>AMAZON</td>\n",
       "      <td>ALOE VERA SKIN GEL 500 GM</td>\n",
       "      <td>Gourmet Nutrition</td>\n",
       "      <td>1,004</td>\n",
       "      <td>3,77,100</td>\n",
       "    </tr>\n",
       "    <tr>\n",
       "      <th>4</th>\n",
       "      <td>01-Dec-20</td>\n",
       "      <td>Marketplace</td>\n",
       "      <td>AMAZON</td>\n",
       "      <td>NEEM JUICE 1 L</td>\n",
       "      <td>Juices</td>\n",
       "      <td>555</td>\n",
       "      <td>1,52,287</td>\n",
       "    </tr>\n",
       "    <tr>\n",
       "      <th>...</th>\n",
       "      <td>...</td>\n",
       "      <td>...</td>\n",
       "      <td>...</td>\n",
       "      <td>...</td>\n",
       "      <td>...</td>\n",
       "      <td>...</td>\n",
       "      <td>...</td>\n",
       "    </tr>\n",
       "    <tr>\n",
       "      <th>219</th>\n",
       "      <td>01-Mar-21</td>\n",
       "      <td>Marketplace</td>\n",
       "      <td>Big Basket</td>\n",
       "      <td>ORGANIC GULKAND 300grams</td>\n",
       "      <td>Gourmet Nutrition</td>\n",
       "      <td>509</td>\n",
       "      <td>1,65,426</td>\n",
       "    </tr>\n",
       "    <tr>\n",
       "      <th>220</th>\n",
       "      <td>01-Mar-21</td>\n",
       "      <td>Marketplace</td>\n",
       "      <td>Flipkart</td>\n",
       "      <td>ALOE + GARCINIA JUICE 1 L</td>\n",
       "      <td>Juices</td>\n",
       "      <td>542</td>\n",
       "      <td>2,48,830</td>\n",
       "    </tr>\n",
       "    <tr>\n",
       "      <th>221</th>\n",
       "      <td>01-Mar-21</td>\n",
       "      <td>Marketplace</td>\n",
       "      <td>Flipkart</td>\n",
       "      <td>AMLA JUICE 1 L</td>\n",
       "      <td>Juices</td>\n",
       "      <td>645</td>\n",
       "      <td>1,40,907</td>\n",
       "    </tr>\n",
       "    <tr>\n",
       "      <th>222</th>\n",
       "      <td>01-Mar-21</td>\n",
       "      <td>Marketplace</td>\n",
       "      <td>Flipkart</td>\n",
       "      <td>GET SLIM JUICE 1 L</td>\n",
       "      <td>Juices</td>\n",
       "      <td>1,242</td>\n",
       "      <td>4,36,043</td>\n",
       "    </tr>\n",
       "    <tr>\n",
       "      <th>223</th>\n",
       "      <td>01-Mar-21</td>\n",
       "      <td>Marketplace</td>\n",
       "      <td>GOQII</td>\n",
       "      <td>RAW HONEY ( MADHU) 500 GRAMS</td>\n",
       "      <td>Gourmet Nutrition</td>\n",
       "      <td>971</td>\n",
       "      <td>5,82,600</td>\n",
       "    </tr>\n",
       "  </tbody>\n",
       "</table>\n",
       "<p>224 rows × 7 columns</p>\n",
       "</div>"
      ],
      "text/plain": [
       "         Month      Channel Sub-Channels                  Product Name  \\\n",
       "0    01-Dec-20  Marketplace       AMAZON         ALOE + AMLA JUICE 1 L   \n",
       "1    01-Dec-20  Marketplace       AMAZON     ALOE + GARCINIA JUICE 1 L   \n",
       "2    01-Dec-20  Marketplace       AMAZON           ALOE VERA JUICE 1 L   \n",
       "3    01-Dec-20  Marketplace       AMAZON     ALOE VERA SKIN GEL 500 GM   \n",
       "4    01-Dec-20  Marketplace       AMAZON                NEEM JUICE 1 L   \n",
       "..         ...          ...          ...                           ...   \n",
       "219  01-Mar-21  Marketplace   Big Basket      ORGANIC GULKAND 300grams   \n",
       "220  01-Mar-21  Marketplace     Flipkart     ALOE + GARCINIA JUICE 1 L   \n",
       "221  01-Mar-21  Marketplace     Flipkart                AMLA JUICE 1 L   \n",
       "222  01-Mar-21  Marketplace     Flipkart            GET SLIM JUICE 1 L   \n",
       "223  01-Mar-21  Marketplace        GOQII  RAW HONEY ( MADHU) 500 GRAMS   \n",
       "\n",
       "              Category      Qty        Sales  \n",
       "0               Juices   1,116     4,28,700   \n",
       "1               Juices   3,003    13,74,831   \n",
       "2               Juices   2,962     7,32,167   \n",
       "3    Gourmet Nutrition   1,004     3,77,100   \n",
       "4               Juices     555     1,52,287   \n",
       "..                 ...      ...          ...  \n",
       "219  Gourmet Nutrition     509     1,65,426   \n",
       "220             Juices     542     2,48,830   \n",
       "221             Juices     645     1,40,907   \n",
       "222             Juices   1,242     4,36,043   \n",
       "223  Gourmet Nutrition     971     5,82,600   \n",
       "\n",
       "[224 rows x 7 columns]"
      ]
     },
     "execution_count": 5,
     "metadata": {},
     "output_type": "execute_result"
    }
   ],
   "source": [
    "df.fillna(0)"
   ]
  },
  {
   "cell_type": "code",
   "execution_count": 6,
   "id": "2f0aec56-ce8d-41f2-8ddd-918a9a56d5c2",
   "metadata": {},
   "outputs": [],
   "source": [
    "df['Month'] = pd.to_datetime(df['Month'])\n",
    "df['Month1'] = df['Month'].dt.strftime(\"%b\")"
   ]
  },
  {
   "cell_type": "code",
   "execution_count": 7,
   "id": "6c550a73-ecc2-4874-b3d0-3ef0ce0b443f",
   "metadata": {},
   "outputs": [
    {
     "name": "stderr",
     "output_type": "stream",
     "text": [
      "C:\\Users\\dpshp\\AppData\\Local\\Temp\\ipykernel_21128\\1096054747.py:1: FutureWarning: The default value of regex will change from True to False in a future version.\n",
      "  df['Qty'] = df['Qty'].str.replace(r'\\W',\"\")\n",
      "C:\\Users\\dpshp\\AppData\\Local\\Temp\\ipykernel_21128\\1096054747.py:2: FutureWarning: The default value of regex will change from True to False in a future version.\n",
      "  df['Sales'] = df['Sales'].str.replace(r'\\W',\"\")\n"
     ]
    }
   ],
   "source": [
    "df['Qty'] = df['Qty'].str.replace(r'\\W',\"\")\n",
    "df['Sales'] = df['Sales'].str.replace(r'\\W',\"\")"
   ]
  },
  {
   "cell_type": "code",
   "execution_count": 8,
   "id": "a4aeff92-7ff0-48a1-8dc4-28cde1688184",
   "metadata": {},
   "outputs": [],
   "source": [
    "df['Qty'] = pd.to_numeric(df['Qty'], errors='coerce')"
   ]
  },
  {
   "cell_type": "code",
   "execution_count": 18,
   "id": "a87e7735-13bf-4b52-b927-f379780116e8",
   "metadata": {},
   "outputs": [
    {
     "data": {
      "text/html": [
       "<div>\n",
       "<style scoped>\n",
       "    .dataframe tbody tr th:only-of-type {\n",
       "        vertical-align: middle;\n",
       "    }\n",
       "\n",
       "    .dataframe tbody tr th {\n",
       "        vertical-align: top;\n",
       "    }\n",
       "\n",
       "    .dataframe thead th {\n",
       "        text-align: right;\n",
       "    }\n",
       "</style>\n",
       "<table border=\"1\" class=\"dataframe\">\n",
       "  <thead>\n",
       "    <tr style=\"text-align: right;\">\n",
       "      <th></th>\n",
       "      <th>Month</th>\n",
       "      <th>Channel</th>\n",
       "      <th>Sub-Channels</th>\n",
       "      <th>Product Name</th>\n",
       "      <th>Category</th>\n",
       "      <th>Qty</th>\n",
       "      <th>Sales</th>\n",
       "      <th>Month1</th>\n",
       "    </tr>\n",
       "  </thead>\n",
       "  <tbody>\n",
       "    <tr>\n",
       "      <th>0</th>\n",
       "      <td>2020-12-01</td>\n",
       "      <td>Marketplace</td>\n",
       "      <td>AMAZON</td>\n",
       "      <td>ALOE + AMLA JUICE 1 L</td>\n",
       "      <td>Juices</td>\n",
       "      <td>1116</td>\n",
       "      <td>428700</td>\n",
       "      <td>Dec</td>\n",
       "    </tr>\n",
       "    <tr>\n",
       "      <th>1</th>\n",
       "      <td>2020-12-01</td>\n",
       "      <td>Marketplace</td>\n",
       "      <td>AMAZON</td>\n",
       "      <td>ALOE + GARCINIA JUICE 1 L</td>\n",
       "      <td>Juices</td>\n",
       "      <td>3003</td>\n",
       "      <td>1374831</td>\n",
       "      <td>Dec</td>\n",
       "    </tr>\n",
       "    <tr>\n",
       "      <th>2</th>\n",
       "      <td>2020-12-01</td>\n",
       "      <td>Marketplace</td>\n",
       "      <td>AMAZON</td>\n",
       "      <td>ALOE VERA JUICE 1 L</td>\n",
       "      <td>Juices</td>\n",
       "      <td>2962</td>\n",
       "      <td>732167</td>\n",
       "      <td>Dec</td>\n",
       "    </tr>\n",
       "    <tr>\n",
       "      <th>3</th>\n",
       "      <td>2020-12-01</td>\n",
       "      <td>Marketplace</td>\n",
       "      <td>AMAZON</td>\n",
       "      <td>ALOE VERA SKIN GEL 500 GM</td>\n",
       "      <td>Gourmet Nutrition</td>\n",
       "      <td>1004</td>\n",
       "      <td>377100</td>\n",
       "      <td>Dec</td>\n",
       "    </tr>\n",
       "    <tr>\n",
       "      <th>4</th>\n",
       "      <td>2020-12-01</td>\n",
       "      <td>Marketplace</td>\n",
       "      <td>AMAZON</td>\n",
       "      <td>NEEM JUICE 1 L</td>\n",
       "      <td>Juices</td>\n",
       "      <td>555</td>\n",
       "      <td>152287</td>\n",
       "      <td>Dec</td>\n",
       "    </tr>\n",
       "    <tr>\n",
       "      <th>...</th>\n",
       "      <td>...</td>\n",
       "      <td>...</td>\n",
       "      <td>...</td>\n",
       "      <td>...</td>\n",
       "      <td>...</td>\n",
       "      <td>...</td>\n",
       "      <td>...</td>\n",
       "      <td>...</td>\n",
       "    </tr>\n",
       "    <tr>\n",
       "      <th>219</th>\n",
       "      <td>2021-03-01</td>\n",
       "      <td>Marketplace</td>\n",
       "      <td>Big Basket</td>\n",
       "      <td>ORGANIC GULKAND 300grams</td>\n",
       "      <td>Gourmet Nutrition</td>\n",
       "      <td>509</td>\n",
       "      <td>165426</td>\n",
       "      <td>Mar</td>\n",
       "    </tr>\n",
       "    <tr>\n",
       "      <th>220</th>\n",
       "      <td>2021-03-01</td>\n",
       "      <td>Marketplace</td>\n",
       "      <td>Flipkart</td>\n",
       "      <td>ALOE + GARCINIA JUICE 1 L</td>\n",
       "      <td>Juices</td>\n",
       "      <td>542</td>\n",
       "      <td>248830</td>\n",
       "      <td>Mar</td>\n",
       "    </tr>\n",
       "    <tr>\n",
       "      <th>221</th>\n",
       "      <td>2021-03-01</td>\n",
       "      <td>Marketplace</td>\n",
       "      <td>Flipkart</td>\n",
       "      <td>AMLA JUICE 1 L</td>\n",
       "      <td>Juices</td>\n",
       "      <td>645</td>\n",
       "      <td>140907</td>\n",
       "      <td>Mar</td>\n",
       "    </tr>\n",
       "    <tr>\n",
       "      <th>222</th>\n",
       "      <td>2021-03-01</td>\n",
       "      <td>Marketplace</td>\n",
       "      <td>Flipkart</td>\n",
       "      <td>GET SLIM JUICE 1 L</td>\n",
       "      <td>Juices</td>\n",
       "      <td>1242</td>\n",
       "      <td>436043</td>\n",
       "      <td>Mar</td>\n",
       "    </tr>\n",
       "    <tr>\n",
       "      <th>223</th>\n",
       "      <td>2021-03-01</td>\n",
       "      <td>Marketplace</td>\n",
       "      <td>GOQII</td>\n",
       "      <td>RAW HONEY ( MADHU) 500 GRAMS</td>\n",
       "      <td>Gourmet Nutrition</td>\n",
       "      <td>971</td>\n",
       "      <td>582600</td>\n",
       "      <td>Mar</td>\n",
       "    </tr>\n",
       "  </tbody>\n",
       "</table>\n",
       "<p>224 rows × 8 columns</p>\n",
       "</div>"
      ],
      "text/plain": [
       "         Month      Channel Sub-Channels                  Product Name  \\\n",
       "0   2020-12-01  Marketplace       AMAZON         ALOE + AMLA JUICE 1 L   \n",
       "1   2020-12-01  Marketplace       AMAZON     ALOE + GARCINIA JUICE 1 L   \n",
       "2   2020-12-01  Marketplace       AMAZON           ALOE VERA JUICE 1 L   \n",
       "3   2020-12-01  Marketplace       AMAZON     ALOE VERA SKIN GEL 500 GM   \n",
       "4   2020-12-01  Marketplace       AMAZON                NEEM JUICE 1 L   \n",
       "..         ...          ...          ...                           ...   \n",
       "219 2021-03-01  Marketplace   Big Basket      ORGANIC GULKAND 300grams   \n",
       "220 2021-03-01  Marketplace     Flipkart     ALOE + GARCINIA JUICE 1 L   \n",
       "221 2021-03-01  Marketplace     Flipkart                AMLA JUICE 1 L   \n",
       "222 2021-03-01  Marketplace     Flipkart            GET SLIM JUICE 1 L   \n",
       "223 2021-03-01  Marketplace        GOQII  RAW HONEY ( MADHU) 500 GRAMS   \n",
       "\n",
       "              Category   Qty    Sales Month1  \n",
       "0               Juices  1116   428700    Dec  \n",
       "1               Juices  3003  1374831    Dec  \n",
       "2               Juices  2962   732167    Dec  \n",
       "3    Gourmet Nutrition  1004   377100    Dec  \n",
       "4               Juices   555   152287    Dec  \n",
       "..                 ...   ...      ...    ...  \n",
       "219  Gourmet Nutrition   509   165426    Mar  \n",
       "220             Juices   542   248830    Mar  \n",
       "221             Juices   645   140907    Mar  \n",
       "222             Juices  1242   436043    Mar  \n",
       "223  Gourmet Nutrition   971   582600    Mar  \n",
       "\n",
       "[224 rows x 8 columns]"
      ]
     },
     "execution_count": 18,
     "metadata": {},
     "output_type": "execute_result"
    }
   ],
   "source": [
    "df"
   ]
  },
  {
   "cell_type": "markdown",
   "id": "2c9ebdf4-1b0e-46bd-84b7-bea59a3f9edb",
   "metadata": {},
   "source": [
    "1. Monthwise number of quantities sold"
   ]
  },
  {
   "cell_type": "code",
   "execution_count": 9,
   "id": "e6b1b017-fa87-449c-b0d1-6b153ac7dc63",
   "metadata": {},
   "outputs": [
    {
     "data": {
      "text/html": [
       "<div>\n",
       "<style scoped>\n",
       "    .dataframe tbody tr th:only-of-type {\n",
       "        vertical-align: middle;\n",
       "    }\n",
       "\n",
       "    .dataframe tbody tr th {\n",
       "        vertical-align: top;\n",
       "    }\n",
       "\n",
       "    .dataframe thead th {\n",
       "        text-align: right;\n",
       "    }\n",
       "</style>\n",
       "<table border=\"1\" class=\"dataframe\">\n",
       "  <thead>\n",
       "    <tr style=\"text-align: right;\">\n",
       "      <th></th>\n",
       "      <th>Qty</th>\n",
       "    </tr>\n",
       "    <tr>\n",
       "      <th>Month1</th>\n",
       "      <th></th>\n",
       "    </tr>\n",
       "  </thead>\n",
       "  <tbody>\n",
       "    <tr>\n",
       "      <th>Dec</th>\n",
       "      <td>85427</td>\n",
       "    </tr>\n",
       "    <tr>\n",
       "      <th>Feb</th>\n",
       "      <td>76393</td>\n",
       "    </tr>\n",
       "    <tr>\n",
       "      <th>Jan</th>\n",
       "      <td>67732</td>\n",
       "    </tr>\n",
       "    <tr>\n",
       "      <th>Mar</th>\n",
       "      <td>80229</td>\n",
       "    </tr>\n",
       "  </tbody>\n",
       "</table>\n",
       "</div>"
      ],
      "text/plain": [
       "          Qty\n",
       "Month1       \n",
       "Dec     85427\n",
       "Feb     76393\n",
       "Jan     67732\n",
       "Mar     80229"
      ]
     },
     "execution_count": 9,
     "metadata": {},
     "output_type": "execute_result"
    }
   ],
   "source": [
    "df1=df.groupby(\"Month1\").sum().sort_values(by=[\"Month1\"],ascending=True)\n",
    "df1"
   ]
  },
  {
   "cell_type": "code",
   "execution_count": 10,
   "id": "dff99bde-5fd5-4ecb-8b79-352e6745b029",
   "metadata": {},
   "outputs": [],
   "source": [
    "df['Sales'] = pd.to_numeric(df['Sales'], errors='coerce')"
   ]
  },
  {
   "cell_type": "markdown",
   "id": "800ebe00-778f-4537-b8d8-3b97c04ce1b3",
   "metadata": {},
   "source": [
    "2. Category wise Qty sold"
   ]
  },
  {
   "cell_type": "code",
   "execution_count": 11,
   "id": "0c3fbf18-8003-4386-849f-39cd2039c159",
   "metadata": {},
   "outputs": [
    {
     "data": {
      "text/plain": [
       "Category\n",
       "Functional nutrition     42354\n",
       "Gourmet Nutrition        89279\n",
       "Juices                  178148\n",
       "Name: Qty, dtype: int64"
      ]
     },
     "execution_count": 11,
     "metadata": {},
     "output_type": "execute_result"
    }
   ],
   "source": [
    "df2=df.groupby(\"Category\")['Qty'].sum()\n",
    "df2"
   ]
  },
  {
   "cell_type": "markdown",
   "id": "cb633955-a088-43b7-a0c7-b5a2d300a71d",
   "metadata": {},
   "source": [
    "3. Sub-channel wise total sales"
   ]
  },
  {
   "cell_type": "code",
   "execution_count": 12,
   "id": "7eb0ac71-5842-4344-9dca-45c4e12026a9",
   "metadata": {},
   "outputs": [
    {
     "data": {
      "text/html": [
       "<div>\n",
       "<style scoped>\n",
       "    .dataframe tbody tr th:only-of-type {\n",
       "        vertical-align: middle;\n",
       "    }\n",
       "\n",
       "    .dataframe tbody tr th {\n",
       "        vertical-align: top;\n",
       "    }\n",
       "\n",
       "    .dataframe thead th {\n",
       "        text-align: right;\n",
       "    }\n",
       "</style>\n",
       "<table border=\"1\" class=\"dataframe\">\n",
       "  <thead>\n",
       "    <tr style=\"text-align: right;\">\n",
       "      <th></th>\n",
       "      <th>Qty</th>\n",
       "      <th>Sales</th>\n",
       "    </tr>\n",
       "    <tr>\n",
       "      <th>Sub-Channels</th>\n",
       "      <th></th>\n",
       "      <th></th>\n",
       "    </tr>\n",
       "  </thead>\n",
       "  <tbody>\n",
       "    <tr>\n",
       "      <th>AMAZON</th>\n",
       "      <td>98130</td>\n",
       "      <td>35606804</td>\n",
       "    </tr>\n",
       "    <tr>\n",
       "      <th>Big Basket</th>\n",
       "      <td>7340</td>\n",
       "      <td>1207522</td>\n",
       "    </tr>\n",
       "    <tr>\n",
       "      <th>D2C</th>\n",
       "      <td>42780</td>\n",
       "      <td>28047538</td>\n",
       "    </tr>\n",
       "    <tr>\n",
       "      <th>Flipkart</th>\n",
       "      <td>11121</td>\n",
       "      <td>3770415</td>\n",
       "    </tr>\n",
       "    <tr>\n",
       "      <th>GOQII</th>\n",
       "      <td>971</td>\n",
       "      <td>582600</td>\n",
       "    </tr>\n",
       "    <tr>\n",
       "      <th>Offline - Central</th>\n",
       "      <td>6096</td>\n",
       "      <td>375332</td>\n",
       "    </tr>\n",
       "    <tr>\n",
       "      <th>Offline - East</th>\n",
       "      <td>8452</td>\n",
       "      <td>811146</td>\n",
       "    </tr>\n",
       "    <tr>\n",
       "      <th>Offline - MT</th>\n",
       "      <td>40219</td>\n",
       "      <td>6257948</td>\n",
       "    </tr>\n",
       "    <tr>\n",
       "      <th>Offline - South</th>\n",
       "      <td>30864</td>\n",
       "      <td>3446395</td>\n",
       "    </tr>\n",
       "    <tr>\n",
       "      <th>Offline - West</th>\n",
       "      <td>52099</td>\n",
       "      <td>6441427</td>\n",
       "    </tr>\n",
       "    <tr>\n",
       "      <th>Offline -North</th>\n",
       "      <td>11709</td>\n",
       "      <td>1206564</td>\n",
       "    </tr>\n",
       "  </tbody>\n",
       "</table>\n",
       "</div>"
      ],
      "text/plain": [
       "                     Qty     Sales\n",
       "Sub-Channels                      \n",
       "AMAZON             98130  35606804\n",
       "Big Basket          7340   1207522\n",
       "D2C                42780  28047538\n",
       "Flipkart           11121   3770415\n",
       "GOQII                971    582600\n",
       "Offline - Central   6096    375332\n",
       "Offline - East      8452    811146\n",
       "Offline - MT       40219   6257948\n",
       "Offline - South    30864   3446395\n",
       "Offline - West     52099   6441427\n",
       "Offline -North     11709   1206564"
      ]
     },
     "execution_count": 12,
     "metadata": {},
     "output_type": "execute_result"
    }
   ],
   "source": [
    "df3=df.groupby(\"Sub-Channels\").sum()\n",
    "df3"
   ]
  },
  {
   "cell_type": "markdown",
   "id": "ba167941-d1f2-4b58-8026-c6b179794b98",
   "metadata": {},
   "source": [
    "4. Highest sale in which month"
   ]
  },
  {
   "cell_type": "code",
   "execution_count": 13,
   "id": "cf60ef40-b169-4109-8bbc-802c7c57a8bf",
   "metadata": {},
   "outputs": [
    {
     "data": {
      "text/html": [
       "<div>\n",
       "<style scoped>\n",
       "    .dataframe tbody tr th:only-of-type {\n",
       "        vertical-align: middle;\n",
       "    }\n",
       "\n",
       "    .dataframe tbody tr th {\n",
       "        vertical-align: top;\n",
       "    }\n",
       "\n",
       "    .dataframe thead th {\n",
       "        text-align: right;\n",
       "    }\n",
       "</style>\n",
       "<table border=\"1\" class=\"dataframe\">\n",
       "  <thead>\n",
       "    <tr style=\"text-align: right;\">\n",
       "      <th></th>\n",
       "      <th>Qty</th>\n",
       "      <th>Sales</th>\n",
       "    </tr>\n",
       "    <tr>\n",
       "      <th>Month1</th>\n",
       "      <th></th>\n",
       "      <th></th>\n",
       "    </tr>\n",
       "  </thead>\n",
       "  <tbody>\n",
       "    <tr>\n",
       "      <th>Mar</th>\n",
       "      <td>80229</td>\n",
       "      <td>25127827</td>\n",
       "    </tr>\n",
       "  </tbody>\n",
       "</table>\n",
       "</div>"
      ],
      "text/plain": [
       "          Qty     Sales\n",
       "Month1                 \n",
       "Mar     80229  25127827"
      ]
     },
     "execution_count": 13,
     "metadata": {},
     "output_type": "execute_result"
    }
   ],
   "source": [
    "df4=df.groupby(\"Month1\").sum().sort_values(by=[\"Sales\"],ascending=False).head(1)\n",
    "df4"
   ]
  },
  {
   "cell_type": "markdown",
   "id": "56156b39-d2ac-49e4-8ab2-d2cd2280bb53",
   "metadata": {},
   "source": [
    "5. Highest selling product (based on sales) (packaging quantity doesn't matter. Ex. consider \"GET SLIM\n",
    "JUICE 1 L\" and \"GET SLIM JUICE 500 ML\" as one product)"
   ]
  },
  {
   "cell_type": "code",
   "execution_count": 14,
   "id": "57e8f3c2-33cb-4c21-9968-17ecf20cf7e3",
   "metadata": {},
   "outputs": [
    {
     "data": {
      "text/plain": [
       "Qty         23585\n",
       "Sales    12249252\n",
       "Name: ALOE + GARCINIA JUICE 1 L, dtype: int64"
      ]
     },
     "execution_count": 14,
     "metadata": {},
     "output_type": "execute_result"
    }
   ],
   "source": [
    "df5=df.groupby(\"Product Name\").sum().sort_values(by=[\"Sales\"],ascending=False)\n",
    "df5.iloc[0]"
   ]
  },
  {
   "cell_type": "markdown",
   "id": "f8329b9c-072f-45b9-b0f7-f64104c61ffe",
   "metadata": {},
   "source": [
    "6. List of different products company is offering (packaging quantity doesn't matter. Ex. consider \"GET\n",
    "SLIM JUICE 1 L\" and \"GET SLIM JUICE 500 ML\" as one product)"
   ]
  },
  {
   "cell_type": "code",
   "execution_count": 15,
   "id": "4c40292f-9739-4ad9-abb7-9ae7581eb258",
   "metadata": {},
   "outputs": [
    {
     "data": {
      "text/plain": [
       "array(['ALOE + AMLA JUICE 1 L', 'ALOE + GARCINIA JUICE 1 L',\n",
       "       'ALOE VERA JUICE 1 L', 'ALOE VERA SKIN GEL 500 GM',\n",
       "       'NEEM JUICE 1 L', 'NONI JUICE 1 L',\n",
       "       'SLIM SHAKE - CHOCOLATE 500 GM', 'SLIM SHAKE - MANGO 500 GM',\n",
       "       'TRIPHALA JUICE 1 L', 'TULSI GILOY JUICE 1 L',\n",
       "       'WHEAT GRASS JUICE 1 L', 'AMLA JUICE 1 L', 'GET SLIM JUICE 1 L',\n",
       "       'HIMALAYA OIL 20 GRMS', 'VIGOR MAX JUICE 1 L',\n",
       "       'ORGANIC JAGGERY POWDER 500 GRAMS', 'ALOE VERA SKIN GEL 150 GM',\n",
       "       'APPLE CIDER VINEGAR500 grams', 'VIRGIN COCONUT OIL 250 ML',\n",
       "       'KARELA JAMUN JUICE 1 L',\n",
       "       'MASALA SUPERGRAIN MIX ENERGY 380 GM ( OFFLINE)',\n",
       "       'MASALA SUPERGRAIN MIX IMMUNITY 400 GM ( OFFLINE)',\n",
       "       'AMLA + GILOY JUICE 1 L', 'DIA FREE JUICE 1 L',\n",
       "       'IMMUNE CARE JUICE 1 L', 'MASALA SUPERGRAIN MIX IMMUNITY 400 GM',\n",
       "       'ORGANIC GULKAND 300grams', 'VEGAN PROTEIN - CHOCOLATE 1 KG',\n",
       "       'GET SLIM CAPSULES 60 CAPS', 'RAW HONEY ( MADHU) 500 GRAMS'],\n",
       "      dtype=object)"
      ]
     },
     "execution_count": 15,
     "metadata": {},
     "output_type": "execute_result"
    }
   ],
   "source": [
    "df6=df['Product Name'].unique()\n",
    "df6"
   ]
  },
  {
   "cell_type": "code",
   "execution_count": 16,
   "id": "f9e65be8-5c3d-45f1-97da-fa22a8684275",
   "metadata": {},
   "outputs": [
    {
     "data": {
      "text/plain": [
       "30"
      ]
     },
     "execution_count": 16,
     "metadata": {},
     "output_type": "execute_result"
    }
   ],
   "source": [
    "df['Product Name'].nunique()"
   ]
  },
  {
   "cell_type": "markdown",
   "id": "b52cee20-8531-42c3-8b28-88b102818adb",
   "metadata": {},
   "source": [
    "7. Create a single excel file to save all the outputs generated above in different subsheets. Email final\n",
    "output file and your python code (.ipynb) file to ranotiyahemant@gmail.com"
   ]
  },
  {
   "cell_type": "code",
   "execution_count": 17,
   "id": "13ab2365-8fc5-4122-8925-329269e39e43",
   "metadata": {},
   "outputs": [
    {
     "ename": "AttributeError",
     "evalue": "'numpy.ndarray' object has no attribute 'to_excel'",
     "output_type": "error",
     "traceback": [
      "\u001b[1;31m---------------------------------------------------------------------------\u001b[0m",
      "\u001b[1;31mAttributeError\u001b[0m                            Traceback (most recent call last)",
      "\u001b[1;32m~\\AppData\\Local\\Temp\\ipykernel_21128\\26234216.py\u001b[0m in \u001b[0;36m<module>\u001b[1;34m\u001b[0m\n\u001b[0;32m      5\u001b[0m     \u001b[0mdf4\u001b[0m\u001b[1;33m.\u001b[0m\u001b[0mto_excel\u001b[0m\u001b[1;33m(\u001b[0m\u001b[0mwriter\u001b[0m\u001b[1;33m,\u001b[0m \u001b[0msheet_name\u001b[0m\u001b[1;33m=\u001b[0m\u001b[1;34m\"Highest sale month\"\u001b[0m\u001b[1;33m)\u001b[0m\u001b[1;33m\u001b[0m\u001b[1;33m\u001b[0m\u001b[0m\n\u001b[0;32m      6\u001b[0m     \u001b[0mdf5\u001b[0m\u001b[1;33m.\u001b[0m\u001b[0mto_excel\u001b[0m\u001b[1;33m(\u001b[0m\u001b[0mwriter\u001b[0m\u001b[1;33m,\u001b[0m \u001b[0msheet_name\u001b[0m\u001b[1;33m=\u001b[0m\u001b[1;34m\"Highest selling product\"\u001b[0m\u001b[1;33m)\u001b[0m\u001b[1;33m\u001b[0m\u001b[1;33m\u001b[0m\u001b[0m\n\u001b[1;32m----> 7\u001b[1;33m     \u001b[0mdf6\u001b[0m\u001b[1;33m.\u001b[0m\u001b[0mto_excel\u001b[0m\u001b[1;33m(\u001b[0m\u001b[0mwriter\u001b[0m\u001b[1;33m,\u001b[0m \u001b[0msheet_name\u001b[0m\u001b[1;33m=\u001b[0m\u001b[1;34m\"Unique Product\"\u001b[0m\u001b[1;33m)\u001b[0m\u001b[1;33m\u001b[0m\u001b[1;33m\u001b[0m\u001b[0m\n\u001b[0m\u001b[0;32m      8\u001b[0m \u001b[1;33m\u001b[0m\u001b[0m\n",
      "\u001b[1;31mAttributeError\u001b[0m: 'numpy.ndarray' object has no attribute 'to_excel'"
     ]
    }
   ],
   "source": [
    "with pd.ExcelWriter(\"FMCG1.xlsx\") as writer:\n",
    "    df1.to_excel(writer, sheet_name=\"Monthwise no of qty sold\")  \n",
    "    df2.to_excel(writer, sheet_name=\"Category wise Qty sold\") \n",
    "    df3.to_excel(writer, sheet_name=\"Sub-channel wise total sales\") \n",
    "    df4.to_excel(writer, sheet_name=\"Highest sale month\")\n",
    "    df5.to_excel(writer, sheet_name=\"Highest selling product\")\n",
    "    df6.to_excel(writer, sheet_name=\"Unique Product\")\n",
    "    "
   ]
  },
  {
   "cell_type": "code",
   "execution_count": null,
   "id": "553053c3-7f78-4642-a32c-a810d802069a",
   "metadata": {},
   "outputs": [],
   "source": []
  }
 ],
 "metadata": {
  "kernelspec": {
   "display_name": "Python 3 (ipykernel)",
   "language": "python",
   "name": "python3"
  },
  "language_info": {
   "codemirror_mode": {
    "name": "ipython",
    "version": 3
   },
   "file_extension": ".py",
   "mimetype": "text/x-python",
   "name": "python",
   "nbconvert_exporter": "python",
   "pygments_lexer": "ipython3",
   "version": "3.9.13"
  }
 },
 "nbformat": 4,
 "nbformat_minor": 5
}
